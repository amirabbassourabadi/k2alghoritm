{
  "nbformat": 4,
  "nbformat_minor": 0,
  "metadata": {
    "colab": {
      "name": "k2alghoritm.ipynb",
      "provenance": [],
      "authorship_tag": "ABX9TyNCyyuA9Zxw79zqAwAB0tBa",
      "include_colab_link": true
    },
    "kernelspec": {
      "name": "python3",
      "display_name": "Python 3"
    },
    "language_info": {
      "name": "python"
    }
  },
  "cells": [
    {
      "cell_type": "markdown",
      "metadata": {
        "id": "view-in-github",
        "colab_type": "text"
      },
      "source": [
        "<a href=\"https://colab.research.google.com/github/amirabbassourabadi/k2alghoritm/blob/main/k2alghoritm.ipynb\" target=\"_parent\"><img src=\"https://colab.research.google.com/assets/colab-badge.svg\" alt=\"Open In Colab\"/></a>"
      ]
    },
    {
      "cell_type": "code",
      "execution_count": null,
      "metadata": {
        "id": "ku6zL2lflTrZ"
      },
      "outputs": [],
      "source": [
        "###k2\n",
        "#tartib haye sotoon mokhtalef ra misazad\n",
        "def entekhab(columnse):\n",
        "  columnse=list(columnse)\n",
        "  from itertools import permutations\n",
        "  perm = permutations(columnse)\n",
        "  list_permuutation=[]\n",
        "  for i in perm:\n",
        "    list_permuutation.append(i)\n",
        "  return list_permuutation\n",
        "def chandtaiee(list_):\n",
        "  result=[]\n",
        "  for i in list_:\n",
        "    for j in columns2:\n",
        "      result.append([i,j])\n",
        "  return result\n",
        "def predict1(list1,list_columns,df,main_columns):\n",
        "  df_r=df\n",
        "  result=0\n",
        "  \n",
        "  for i in range(len(list_columns)):\n",
        "    df_r=df_r[df_r[list_columns[i]]==list1[i]]\n",
        "  df_result=df_r\n",
        "  if(len(df_r)==0 ):\n",
        "    result=result\n",
        "    return(0,0)\n",
        "  else:\n",
        "    k=len(df[main_columns].unique())-1\n",
        "    #print(df_r[main_columns].unique())\n",
        "    #print('##################################')\n",
        "    for i in df_r[main_columns].unique():\n",
        "      df_result=df_r[df_r[main_columns]==i]\n",
        "      if(len(df_result)!=0):\n",
        "        #print(len(df_result)/len(df_r))\n",
        "        result=result+(len(df_result)*(math.log(len(df_result)/len(df_r),10)))#log ma ln ast\n",
        "    return (result,k)\n",
        "def election (list1):\n",
        "  tedad=1\n",
        "  list_0=[]\n",
        "  list_tedad=[1]\n",
        "  list_result=[]\n",
        "  for i in list1:\n",
        "    tedad=tedad*len(i)\n",
        "    list_0.append(len(i))\n",
        "    list_tedad.append(tedad)\n",
        "  for i in range(tedad):\n",
        "    list_result.append([])\n",
        "    #print(list_result[-1])\n",
        "    for j in range(len(list1)):\n",
        "      #print((int(i/list_tedad[j])))\n",
        "      list_result[-1].append(list1[j][int(i/list_tedad[j])%len(list1[j])])\n",
        "  return list_result\n",
        "def predict_2(list_input,df_1):\n",
        "  predict=0\n",
        "  z=0\n",
        "  list_unique_input=[]\n",
        "  for i in list_input[1]:\n",
        "    list_unique_input.append(list(df_1[i].unique()))\n",
        "  for i in election(list_unique_input):\n",
        "    t=predict1(i,list_input[1],df_1,list_input[0])\n",
        "    predict=predict+t[0]\n",
        "    z=z+t[1]\n",
        "  return (-predict,z)\n",
        "def predict_3(list_input,df1):\n",
        "  k=0\n",
        "  predict=0\n",
        "  for i in list_input:\n",
        "    t=predict_2(i,df1)\n",
        "    predict=predict+t[0]\n",
        "    k=k+t[1]\n",
        "  return (predict,k)\n",
        "def k2(df):\n",
        "  min=np.math.inf\n",
        "  for i in entekhab(df.columns):\n",
        "    list_answer=[]\n",
        "    list_entekhab=[]\n",
        "    for j in i:\n",
        "      list_answer.append([j,[]])\n",
        "      for k in list_entekhab:\n",
        "        if np.sum((predict_2(list_answer[-1],df)))>np.sum(predict_2([list_answer[-1][0],list_answer[-1][1]+[k]],df)):\n",
        "          list_answer[-1]=[list_answer[-1][0],list_answer[-1][1]+[k]]\n",
        "      list_entekhab.append(j)\n",
        "    print(list_answer)\n",
        "    aic=np.sum(predict_3(list_answer,df))\n",
        "    if (min>aic):\n",
        "      min=aic\n",
        "      min_array=list_answer\n",
        "  return min_array\n"
      ]
    }
  ]
}